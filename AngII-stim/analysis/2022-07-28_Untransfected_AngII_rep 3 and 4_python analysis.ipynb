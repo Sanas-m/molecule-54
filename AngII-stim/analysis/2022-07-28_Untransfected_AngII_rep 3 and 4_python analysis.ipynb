{
 "cells": [
  {
   "cell_type": "markdown",
   "id": "62be14bf",
   "metadata": {},
   "source": [
    "# 2022-07-28_Untransfected_AngII_rep 3 and 4"
   ]
  },
  {
   "cell_type": "code",
   "execution_count": 3,
   "id": "94f2df2a",
   "metadata": {},
   "outputs": [
    {
     "name": "stdout",
     "output_type": "stream",
     "text": [
      "            Sample Name Target Name            CT  Ct Mean  Ct SD\n",
      "0        Untreated rep3       GAPDH        26,234   26.121  0.160\n",
      "1        Untreated rep3       GAPDH        26,007   26.121  0.160\n",
      "2            AngII rep3       GAPDH        25,752   25.776  0.033\n",
      "3            AngII rep3       GAPDH        25,799   25.776  0.033\n",
      "4   AngII + mol-54 rep3       GAPDH        25,821   25.801  0.029\n",
      "5   AngII + mol-54 rep3       GAPDH        25,781   25.801  0.029\n",
      "6        Untreated rep4       GAPDH        25,808   25.875  0.095\n",
      "7        Untreated rep4       GAPDH        25,942   25.875  0.095\n",
      "8            AngII rep4       GAPDH        26,090   26.234  0.203\n",
      "9            AngII rep4       GAPDH        26,378   26.234  0.203\n",
      "10  AngII + mol-54 rep4       GAPDH        26,282   26.164  0.167\n",
      "11  AngII + mol-54 rep4       GAPDH        26,046   26.164  0.167\n",
      "12       Untreated rep3     CYP11B2        31,099   31.105  0.008\n",
      "13       Untreated rep3     CYP11B2        31,110   31.105  0.008\n",
      "14           AngII rep3     CYP11B2        25,061   25.130  0.098\n",
      "15           AngII rep3     CYP11B2        25,200   25.130  0.098\n",
      "16  AngII + mol-54 rep3     CYP11B2        25,843   25.985  0.201\n",
      "17       Untreated rep4     CYP11B2        32,022   31.857  0.233\n",
      "18       Untreated rep4     CYP11B2        31,692   31.857  0.233\n",
      "19           AngII rep4     CYP11B2        25,845   25.812  0.046\n",
      "20           AngII rep4     CYP11B2        25,780   25.812  0.046\n",
      "21  AngII + mol-54 rep4     CYP11B2        26,672   26.825  0.217\n",
      "22  AngII + mol-54 rep4     CYP11B2        26,979   26.825  0.217\n",
      "23  AngII + mol-54 rep3     CYP11B2        26,128   25.985  0.201\n",
      "24       + cum + mol-54       GAPDH        26,130   26.213  0.118\n",
      "25       + cum + mol-54       GAPDH        26,296   26.213  0.118\n",
      "26       + cum - mol-54       GAPDH        26,099   26.120  0.030\n",
      "27       + cum - mol-54       GAPDH        26,141   26.120  0.030\n",
      "28       - cum + mol-54       GAPDH        26,078   25.986  0.131\n",
      "29       - cum + mol-54       GAPDH        25,893   25.986  0.131\n",
      "30       + cum + mol-54       KCNJ5        23,978   23.947  0.044\n",
      "31       + cum + mol-54       KCNJ5        23,916   23.947  0.044\n",
      "32       + cum - mol-54       KCNJ5        23,606   23.542  0.089\n",
      "33       + cum - mol-54       KCNJ5        23,479   23.542  0.089\n",
      "34       - cum + mol-54       KCNJ5        23,968   23.994  0.037\n",
      "35       - cum + mol-54       KCNJ5        24,020   23.994  0.037\n",
      "36       + cum + mol-54     CYP11B2        29,666   29.535  0.185\n",
      "37       + cum + mol-54     CYP11B2        29,405   29.535  0.185\n",
      "38       + cum - mol-54     CYP11B2        28,531   28.429  0.144\n",
      "39       + cum - mol-54     CYP11B2        28,327   28.429  0.144\n",
      "40       - cum + mol-54     CYP11B2        28,853   28.970  0.165\n",
      "41       - cum + mol-54     CYP11B2        29,086   28.970  0.165\n",
      "42                Water       GAPDH  Undetermined      NaN    NaN\n",
      "43                Water       KCNJ5  Undetermined      NaN    NaN\n",
      "44                Water     CYP11B2  Undetermined      NaN    NaN\n"
     ]
    }
   ],
   "source": [
    "import pandas as pd\n",
    "\n",
    "rawData = pd.read_csv('/Users/sanas/Projects/compounds/molecule-54_characterization/effect_CYP11B2/src/2022-07-28_Untransfected_AngII_rep 3 and 4 and mol-54_CYP11B2_prelim-rep4_raw data_CSV.csv', delimiter = \";\", decimal = \",\")\n",
    "processingData = rawData[['Sample Name', 'Target Name', 'CT', 'Ct Mean', 'Ct SD']]\n",
    "\n",
    "print(processingData.to_string()) "
   ]
  },
  {
   "cell_type": "markdown",
   "id": "7bd9cdd8",
   "metadata": {},
   "source": [
    "## Divide data set according to experimental question"
   ]
  },
  {
   "cell_type": "code",
   "execution_count": 4,
   "id": "befbc03a",
   "metadata": {},
   "outputs": [
    {
     "name": "stdout",
     "output_type": "stream",
     "text": [
      "[           Sample Name Target Name      CT  Ct Mean  Ct SD\n",
      "0       Untreated rep3       GAPDH  26,234   26.121  0.160\n",
      "1       Untreated rep3       GAPDH  26,007   26.121  0.160\n",
      "2           AngII rep3       GAPDH  25,752   25.776  0.033\n",
      "3           AngII rep3       GAPDH  25,799   25.776  0.033\n",
      "4  AngII + mol-54 rep3       GAPDH  25,821   25.801  0.029\n",
      "5  AngII + mol-54 rep3       GAPDH  25,781   25.801  0.029,             Sample Name Target Name      CT  Ct Mean  Ct SD\n",
      "12       Untreated rep3     CYP11B2  31,099   31.105  0.008\n",
      "13       Untreated rep3     CYP11B2  31,110   31.105  0.008\n",
      "14           AngII rep3     CYP11B2  25,061   25.130  0.098\n",
      "15           AngII rep3     CYP11B2  25,200   25.130  0.098\n",
      "16  AngII + mol-54 rep3     CYP11B2  25,843   25.985  0.201, Sample Name    AngII + mol-54 rep3\n",
      "Target Name                CYP11B2\n",
      "CT                          26,128\n",
      "Ct Mean                     25.985\n",
      "Ct SD                        0.201\n",
      "Name: 23, dtype: object]\n"
     ]
    }
   ],
   "source": [
    "# Creating variables for subsets of processingData to slice them together into a new data frame for AngII rep 3 experiment\n",
    "\n",
    "AngII_rep3_firstDataSubset = processingData.iloc[0:6]\n",
    "AngII_rep3_secondDataSubset = processingData.iloc[12:17]\n",
    "AngII_rep3_thirdDataSubset = processingData.iloc[23]                                                  \n",
    "\n",
    "processingData_AngII_rep3 = [AngII_rep3_firstDataSubset, AngII_rep3_secondDataSubset, AngII_rep3_thirdDataSubset]\n",
    "\n",
    "print(processingData_AngII_rep3)"
   ]
  },
  {
   "cell_type": "code",
   "execution_count": 5,
   "id": "dcc2dff0",
   "metadata": {},
   "outputs": [
    {
     "name": "stdout",
     "output_type": "stream",
     "text": [
      "[            Sample Name Target Name      CT  Ct Mean  Ct SD\n",
      "6        Untreated rep4       GAPDH  25,808   25.875  0.095\n",
      "7        Untreated rep4       GAPDH  25,942   25.875  0.095\n",
      "8            AngII rep4       GAPDH  26,090   26.234  0.203\n",
      "9            AngII rep4       GAPDH  26,378   26.234  0.203\n",
      "10  AngII + mol-54 rep4       GAPDH  26,282   26.164  0.167\n",
      "11  AngII + mol-54 rep4       GAPDH  26,046   26.164  0.167,             Sample Name Target Name      CT  Ct Mean  Ct SD\n",
      "17       Untreated rep4     CYP11B2  32,022   31.857  0.233\n",
      "18       Untreated rep4     CYP11B2  31,692   31.857  0.233\n",
      "19           AngII rep4     CYP11B2  25,845   25.812  0.046\n",
      "20           AngII rep4     CYP11B2  25,780   25.812  0.046\n",
      "21  AngII + mol-54 rep4     CYP11B2  26,672   26.825  0.217\n",
      "22  AngII + mol-54 rep4     CYP11B2  26,979   26.825  0.217]\n"
     ]
    }
   ],
   "source": [
    "# Creating variables for subsets of processingData to slice them together into a new data frame for AngII rep 4 experiment\n",
    "\n",
    "AngII_rep4_firstDataSubset = processingData.iloc[6:12]\n",
    "AngII_rep4_secondDataSubset = processingData.iloc[17:23]                                                 \n",
    "\n",
    "processingData_AngII_rep4 = [AngII_rep4_firstDataSubset, AngII_rep4_secondDataSubset]\n",
    "\n",
    "print(processingData_AngII_rep4)"
   ]
  },
  {
   "cell_type": "code",
   "execution_count": null,
   "id": "f587362e",
   "metadata": {},
   "outputs": [],
   "source": []
  },
  {
   "cell_type": "code",
   "execution_count": 6,
   "id": "5ec8f9d1",
   "metadata": {},
   "outputs": [
    {
     "name": "stdout",
     "output_type": "stream",
     "text": [
      "                    Target Name            CT  Ct Mean  Ct SD\n",
      "Sample Name                                                  \n",
      "Untreated rep3            GAPDH        26,234   26.121  0.160\n",
      "Untreated rep3            GAPDH        26,007   26.121  0.160\n",
      "AngII rep3                GAPDH        25,752   25.776  0.033\n",
      "AngII rep3                GAPDH        25,799   25.776  0.033\n",
      "AngII + mol-54 rep3       GAPDH        25,821   25.801  0.029\n",
      "AngII + mol-54 rep3       GAPDH        25,781   25.801  0.029\n",
      "Untreated rep4            GAPDH        25,808   25.875  0.095\n",
      "Untreated rep4            GAPDH        25,942   25.875  0.095\n",
      "AngII rep4                GAPDH        26,090   26.234  0.203\n",
      "AngII rep4                GAPDH        26,378   26.234  0.203\n",
      "AngII + mol-54 rep4       GAPDH        26,282   26.164  0.167\n",
      "AngII + mol-54 rep4       GAPDH        26,046   26.164  0.167\n",
      "+ cum + mol-54            GAPDH        26,130   26.213  0.118\n",
      "+ cum + mol-54            GAPDH        26,296   26.213  0.118\n",
      "+ cum - mol-54            GAPDH        26,099   26.120  0.030\n",
      "+ cum - mol-54            GAPDH        26,141   26.120  0.030\n",
      "- cum + mol-54            GAPDH        26,078   25.986  0.131\n",
      "- cum + mol-54            GAPDH        25,893   25.986  0.131\n",
      "Water                     GAPDH  Undetermined      NaN    NaN\n",
      "                    Target Name            CT  Ct Mean  Ct SD\n",
      "Sample Name                                                  \n",
      "Untreated rep3          CYP11B2        31,099   31.105  0.008\n",
      "Untreated rep3          CYP11B2        31,110   31.105  0.008\n",
      "AngII rep3              CYP11B2        25,061   25.130  0.098\n",
      "AngII rep3              CYP11B2        25,200   25.130  0.098\n",
      "AngII + mol-54 rep3     CYP11B2        25,843   25.985  0.201\n",
      "Untreated rep4          CYP11B2        32,022   31.857  0.233\n",
      "Untreated rep4          CYP11B2        31,692   31.857  0.233\n",
      "AngII rep4              CYP11B2        25,845   25.812  0.046\n",
      "AngII rep4              CYP11B2        25,780   25.812  0.046\n",
      "AngII + mol-54 rep4     CYP11B2        26,672   26.825  0.217\n",
      "AngII + mol-54 rep4     CYP11B2        26,979   26.825  0.217\n",
      "AngII + mol-54 rep3     CYP11B2        26,128   25.985  0.201\n",
      "+ cum + mol-54          CYP11B2        29,666   29.535  0.185\n",
      "+ cum + mol-54          CYP11B2        29,405   29.535  0.185\n",
      "+ cum - mol-54          CYP11B2        28,531   28.429  0.144\n",
      "+ cum - mol-54          CYP11B2        28,327   28.429  0.144\n",
      "- cum + mol-54          CYP11B2        28,853   28.970  0.165\n",
      "- cum + mol-54          CYP11B2        29,086   28.970  0.165\n",
      "Water                   CYP11B2  Undetermined      NaN    NaN\n",
      "               Target Name            CT  Ct Mean  Ct SD\n",
      "Sample Name                                             \n",
      "+ cum + mol-54       KCNJ5        23,978   23.947  0.044\n",
      "+ cum + mol-54       KCNJ5        23,916   23.947  0.044\n",
      "+ cum - mol-54       KCNJ5        23,606   23.542  0.089\n",
      "+ cum - mol-54       KCNJ5        23,479   23.542  0.089\n",
      "- cum + mol-54       KCNJ5        23,968   23.994  0.037\n",
      "- cum + mol-54       KCNJ5        24,020   23.994  0.037\n",
      "Water                KCNJ5  Undetermined      NaN    NaN\n"
     ]
    }
   ],
   "source": [
    "housekeepingGene = processingData.loc[processingData['Target Name'] == 'GAPDH']\n",
    "firstGeneOfInterest = processingData.loc[processingData['Target Name'] == 'CYP11B2']\n",
    "secondGeneOfInterest = processingData.loc[processingData['Target Name'] == 'KCNJ5']\n",
    "\n",
    "housekeepingGene.set_index('Sample Name', inplace = True)\n",
    "firstGeneOfInterest.set_index('Sample Name', inplace = True)\n",
    "secondGeneOfInterest.set_index('Sample Name', inplace = True)\n",
    "\n",
    "print(housekeepingGene.to_string())\n",
    "print(firstGeneOfInterest.to_string())\n",
    "print(secondGeneOfInterest.to_string())"
   ]
  },
  {
   "cell_type": "code",
   "execution_count": 7,
   "id": "f4e1a7fe",
   "metadata": {},
   "outputs": [
    {
     "name": "stdout",
     "output_type": "stream",
     "text": [
      "Sample Name\n",
      "+ cum + mol-54         3.322\n",
      "+ cum + mol-54         3.322\n",
      "+ cum + mol-54         3.322\n",
      "+ cum + mol-54         3.322\n",
      "+ cum - mol-54         2.309\n",
      "+ cum - mol-54         2.309\n",
      "+ cum - mol-54         2.309\n",
      "+ cum - mol-54         2.309\n",
      "- cum + mol-54         2.984\n",
      "- cum + mol-54         2.984\n",
      "- cum + mol-54         2.984\n",
      "- cum + mol-54         2.984\n",
      "AngII + mol-54 rep3    0.184\n",
      "AngII + mol-54 rep3    0.184\n",
      "AngII + mol-54 rep3    0.184\n",
      "AngII + mol-54 rep3    0.184\n",
      "AngII + mol-54 rep4    0.661\n",
      "AngII + mol-54 rep4    0.661\n",
      "AngII + mol-54 rep4    0.661\n",
      "AngII + mol-54 rep4    0.661\n",
      "AngII rep3            -0.646\n",
      "AngII rep3            -0.646\n",
      "AngII rep3            -0.646\n",
      "AngII rep3            -0.646\n",
      "AngII rep4            -0.422\n",
      "AngII rep4            -0.422\n",
      "AngII rep4            -0.422\n",
      "AngII rep4            -0.422\n",
      "Untreated rep3         4.984\n",
      "Untreated rep3         4.984\n",
      "Untreated rep3         4.984\n",
      "Untreated rep3         4.984\n",
      "Untreated rep4         5.982\n",
      "Untreated rep4         5.982\n",
      "Untreated rep4         5.982\n",
      "Untreated rep4         5.982\n",
      "Water                    NaN\n",
      "Sample Name\n",
      "+ cum + mol-54        -2.266\n",
      "+ cum + mol-54        -2.266\n",
      "+ cum + mol-54        -2.266\n",
      "+ cum + mol-54        -2.266\n",
      "+ cum - mol-54        -2.578\n",
      "+ cum - mol-54        -2.578\n",
      "+ cum - mol-54        -2.578\n",
      "+ cum - mol-54        -2.578\n",
      "- cum + mol-54        -1.992\n",
      "- cum + mol-54        -1.992\n",
      "- cum + mol-54        -1.992\n",
      "- cum + mol-54        -1.992\n",
      "AngII + mol-54 rep3      NaN\n",
      "AngII + mol-54 rep3      NaN\n",
      "AngII + mol-54 rep4      NaN\n",
      "AngII + mol-54 rep4      NaN\n",
      "AngII rep3               NaN\n",
      "AngII rep3               NaN\n",
      "AngII rep4               NaN\n",
      "AngII rep4               NaN\n",
      "Untreated rep3           NaN\n",
      "Untreated rep3           NaN\n",
      "Untreated rep4           NaN\n",
      "Untreated rep4           NaN\n",
      "Water                    NaN\n"
     ]
    }
   ],
   "source": [
    "deltaCT_CYP11B2 = firstGeneOfInterest['Ct Mean'] - housekeepingGene['Ct Mean']\n",
    "deltaCT_KCNJ5 = secondGeneOfInterest['Ct Mean'] - housekeepingGene['Ct Mean']\n",
    "\n",
    "print(deltaCT_CYP11B2.to_string())\n",
    "print(deltaCT_KCNJ5.to_string())"
   ]
  },
  {
   "cell_type": "code",
   "execution_count": 8,
   "id": "77957654",
   "metadata": {},
   "outputs": [
    {
     "name": "stdout",
     "output_type": "stream",
     "text": [
      "CYP11B2 expression Sample Name\n",
      "+ cum + mol-54         0.099995\n",
      "+ cum - mol-54         0.201800\n",
      "- cum + mol-54         0.126394\n",
      "AngII + mol-54 rep3    0.880259\n",
      "AngII + mol-54 rep4    0.632440\n",
      "AngII rep3             1.564824\n",
      "AngII rep4             1.339784\n",
      "Untreated rep3         0.031599\n",
      "Untreated rep4         0.015821\n",
      "Water                       NaN\n",
      "KCNJ5 expression Sample Name\n",
      "+ cum + mol-54         4.809877\n",
      "+ cum - mol-54         5.971114\n",
      "- cum + mol-54         3.977881\n",
      "AngII + mol-54 rep3         NaN\n"
     ]
    }
   ],
   "source": [
    "doubleDeltaCT_CYP11B2 = 2 ** (-deltaCT_CYP11B2)\n",
    "doubleDeltaCT_KCNJ5 = 2 ** (-deltaCT_KCNJ5)\n",
    "\n",
    "doubleDeltaCT_CYP11B2.drop_duplicates(inplace = True)\n",
    "doubleDeltaCT_KCNJ5.drop_duplicates(inplace = True)\n",
    "\n",
    "print (\"CYP11B2 expression\", doubleDeltaCT_CYP11B2.to_string())\n",
    "print (\"KCNJ5 expression\", doubleDeltaCT_KCNJ5.to_string())"
   ]
  },
  {
   "cell_type": "code",
   "execution_count": 19,
   "id": "d8634b6d",
   "metadata": {},
   "outputs": [
    {
     "name": "stdout",
     "output_type": "stream",
     "text": [
      "CYP11B2 fold change Ang II rep 3 Sample Name\n",
      "+ cum + mol-54          3.164549\n",
      "+ cum - mol-54          6.386387\n",
      "- cum + mol-54          4.000000\n",
      "AngII + mol-54 rep3    27.857618\n",
      "AngII + mol-54 rep4    20.014865\n",
      "AngII rep3             49.522080\n",
      "AngII rep4             42.400225\n",
      "Untreated rep3          1.000000\n",
      "Untreated rep4          0.500694\n",
      "Water                        NaN\n",
      "Name: Ct Mean, dtype: float64 \n",
      "\n"
     ]
    }
   ],
   "source": [
    "foldChange_CYP11B2_AngII_rep3.drop(labels='Sample Name', axis=0, index=None, columns=None, level=None, inplace=False)\n",
    "foldChange_CYP11B2_AngII_rep3 = doubleDeltaCT_CYP11B2 / doubleDeltaCT_CYP11B2['Untreated rep3']\n",
    "print (\"CYP11B2 fold change Ang II rep 3\", foldChange_CYP11B2_AngII_rep3, \"\\n\")"
   ]
  },
  {
   "cell_type": "code",
   "execution_count": 21,
   "id": "24169f0a",
   "metadata": {},
   "outputs": [
    {
     "ename": "KeyError",
     "evalue": "'Sample Name'",
     "output_type": "error",
     "traceback": [
      "\u001b[0;31m---------------------------------------------------------------------------\u001b[0m",
      "\u001b[0;31mKeyError\u001b[0m                                  Traceback (most recent call last)",
      "File \u001b[0;32m/Library/Frameworks/Python.framework/Versions/3.10/lib/python3.10/site-packages/pandas/core/indexes/base.py:3621\u001b[0m, in \u001b[0;36mIndex.get_loc\u001b[0;34m(self, key, method, tolerance)\u001b[0m\n\u001b[1;32m   3620\u001b[0m \u001b[38;5;28;01mtry\u001b[39;00m:\n\u001b[0;32m-> 3621\u001b[0m     \u001b[38;5;28;01mreturn\u001b[39;00m \u001b[38;5;28;43mself\u001b[39;49m\u001b[38;5;241;43m.\u001b[39;49m\u001b[43m_engine\u001b[49m\u001b[38;5;241;43m.\u001b[39;49m\u001b[43mget_loc\u001b[49m\u001b[43m(\u001b[49m\u001b[43mcasted_key\u001b[49m\u001b[43m)\u001b[49m\n\u001b[1;32m   3622\u001b[0m \u001b[38;5;28;01mexcept\u001b[39;00m \u001b[38;5;167;01mKeyError\u001b[39;00m \u001b[38;5;28;01mas\u001b[39;00m err:\n",
      "File \u001b[0;32mpandas/_libs/index.pyx:136\u001b[0m, in \u001b[0;36mpandas._libs.index.IndexEngine.get_loc\u001b[0;34m()\u001b[0m\n",
      "File \u001b[0;32mpandas/_libs/index.pyx:163\u001b[0m, in \u001b[0;36mpandas._libs.index.IndexEngine.get_loc\u001b[0;34m()\u001b[0m\n",
      "File \u001b[0;32mpandas/_libs/hashtable_class_helper.pxi:5198\u001b[0m, in \u001b[0;36mpandas._libs.hashtable.PyObjectHashTable.get_item\u001b[0;34m()\u001b[0m\n",
      "File \u001b[0;32mpandas/_libs/hashtable_class_helper.pxi:5206\u001b[0m, in \u001b[0;36mpandas._libs.hashtable.PyObjectHashTable.get_item\u001b[0;34m()\u001b[0m\n",
      "\u001b[0;31mKeyError\u001b[0m: 'Sample Name'",
      "\nThe above exception was the direct cause of the following exception:\n",
      "\u001b[0;31mKeyError\u001b[0m                                  Traceback (most recent call last)",
      "Input \u001b[0;32mIn [21]\u001b[0m, in \u001b[0;36m<cell line: 1>\u001b[0;34m()\u001b[0m\n\u001b[0;32m----> 1\u001b[0m untreated_rep3 \u001b[38;5;241m=\u001b[39m foldChange_CYP11B2_AngII_rep3[\u001b[43mfoldChange_CYP11B2_AngII_rep3\u001b[49m\u001b[43m[\u001b[49m\u001b[38;5;124;43m'\u001b[39;49m\u001b[38;5;124;43mSample Name\u001b[39;49m\u001b[38;5;124;43m'\u001b[39;49m\u001b[43m]\u001b[49m \u001b[38;5;241m==\u001b[39m \u001b[38;5;124m'\u001b[39m\u001b[38;5;124mUntreated rep3\u001b[39m\u001b[38;5;124m'\u001b[39m]\n\u001b[1;32m      2\u001b[0m \u001b[38;5;28mprint\u001b[39m (untreated_rep3)\n",
      "File \u001b[0;32m/Library/Frameworks/Python.framework/Versions/3.10/lib/python3.10/site-packages/pandas/core/series.py:958\u001b[0m, in \u001b[0;36mSeries.__getitem__\u001b[0;34m(self, key)\u001b[0m\n\u001b[1;32m    955\u001b[0m     \u001b[38;5;28;01mreturn\u001b[39;00m \u001b[38;5;28mself\u001b[39m\u001b[38;5;241m.\u001b[39m_values[key]\n\u001b[1;32m    957\u001b[0m \u001b[38;5;28;01melif\u001b[39;00m key_is_scalar:\n\u001b[0;32m--> 958\u001b[0m     \u001b[38;5;28;01mreturn\u001b[39;00m \u001b[38;5;28;43mself\u001b[39;49m\u001b[38;5;241;43m.\u001b[39;49m\u001b[43m_get_value\u001b[49m\u001b[43m(\u001b[49m\u001b[43mkey\u001b[49m\u001b[43m)\u001b[49m\n\u001b[1;32m    960\u001b[0m \u001b[38;5;28;01mif\u001b[39;00m is_hashable(key):\n\u001b[1;32m    961\u001b[0m     \u001b[38;5;66;03m# Otherwise index.get_value will raise InvalidIndexError\u001b[39;00m\n\u001b[1;32m    962\u001b[0m     \u001b[38;5;28;01mtry\u001b[39;00m:\n\u001b[1;32m    963\u001b[0m         \u001b[38;5;66;03m# For labels that don't resolve as scalars like tuples and frozensets\u001b[39;00m\n",
      "File \u001b[0;32m/Library/Frameworks/Python.framework/Versions/3.10/lib/python3.10/site-packages/pandas/core/series.py:1069\u001b[0m, in \u001b[0;36mSeries._get_value\u001b[0;34m(self, label, takeable)\u001b[0m\n\u001b[1;32m   1066\u001b[0m     \u001b[38;5;28;01mreturn\u001b[39;00m \u001b[38;5;28mself\u001b[39m\u001b[38;5;241m.\u001b[39m_values[label]\n\u001b[1;32m   1068\u001b[0m \u001b[38;5;66;03m# Similar to Index.get_value, but we do not fall back to positional\u001b[39;00m\n\u001b[0;32m-> 1069\u001b[0m loc \u001b[38;5;241m=\u001b[39m \u001b[38;5;28;43mself\u001b[39;49m\u001b[38;5;241;43m.\u001b[39;49m\u001b[43mindex\u001b[49m\u001b[38;5;241;43m.\u001b[39;49m\u001b[43mget_loc\u001b[49m\u001b[43m(\u001b[49m\u001b[43mlabel\u001b[49m\u001b[43m)\u001b[49m\n\u001b[1;32m   1070\u001b[0m \u001b[38;5;28;01mreturn\u001b[39;00m \u001b[38;5;28mself\u001b[39m\u001b[38;5;241m.\u001b[39mindex\u001b[38;5;241m.\u001b[39m_get_values_for_loc(\u001b[38;5;28mself\u001b[39m, loc, label)\n",
      "File \u001b[0;32m/Library/Frameworks/Python.framework/Versions/3.10/lib/python3.10/site-packages/pandas/core/indexes/base.py:3623\u001b[0m, in \u001b[0;36mIndex.get_loc\u001b[0;34m(self, key, method, tolerance)\u001b[0m\n\u001b[1;32m   3621\u001b[0m     \u001b[38;5;28;01mreturn\u001b[39;00m \u001b[38;5;28mself\u001b[39m\u001b[38;5;241m.\u001b[39m_engine\u001b[38;5;241m.\u001b[39mget_loc(casted_key)\n\u001b[1;32m   3622\u001b[0m \u001b[38;5;28;01mexcept\u001b[39;00m \u001b[38;5;167;01mKeyError\u001b[39;00m \u001b[38;5;28;01mas\u001b[39;00m err:\n\u001b[0;32m-> 3623\u001b[0m     \u001b[38;5;28;01mraise\u001b[39;00m \u001b[38;5;167;01mKeyError\u001b[39;00m(key) \u001b[38;5;28;01mfrom\u001b[39;00m \u001b[38;5;21;01merr\u001b[39;00m\n\u001b[1;32m   3624\u001b[0m \u001b[38;5;28;01mexcept\u001b[39;00m \u001b[38;5;167;01mTypeError\u001b[39;00m:\n\u001b[1;32m   3625\u001b[0m     \u001b[38;5;66;03m# If we have a listlike key, _check_indexing_error will raise\u001b[39;00m\n\u001b[1;32m   3626\u001b[0m     \u001b[38;5;66;03m#  InvalidIndexError. Otherwise we fall through and re-raise\u001b[39;00m\n\u001b[1;32m   3627\u001b[0m     \u001b[38;5;66;03m#  the TypeError.\u001b[39;00m\n\u001b[1;32m   3628\u001b[0m     \u001b[38;5;28mself\u001b[39m\u001b[38;5;241m.\u001b[39m_check_indexing_error(key)\n",
      "\u001b[0;31mKeyError\u001b[0m: 'Sample Name'"
     ]
    }
   ],
   "source": [
    "untreated_rep3 = foldChange_CYP11B2_AngII_rep3[foldChange_CYP11B2_AngII_rep3['Sample Name'] == 'Untreated rep3']\n",
    "print (untreated_rep3)"
   ]
  },
  {
   "cell_type": "code",
   "execution_count": 10,
   "id": "41f6aedc",
   "metadata": {},
   "outputs": [
    {
     "name": "stdout",
     "output_type": "stream",
     "text": [
      "CYP11B2 fold change Ang II rep 4 Sample Name\n",
      "+ cum + mol-54          6.320330\n",
      "+ cum - mol-54         12.755080\n",
      "- cum + mol-54          7.988917\n",
      "AngII + mol-54 rep3    55.638052\n",
      "AngII + mol-54 rep4    39.974276\n",
      "AngII rep3             98.906950\n",
      "AngII rep4             84.682972\n",
      "Untreated rep3          1.997229\n",
      "Untreated rep4          1.000000\n",
      "Water                        NaN\n",
      "Name: Ct Mean, dtype: float64\n"
     ]
    }
   ],
   "source": [
    "foldChange_CYP11B2_AngII_rep4 = doubleDeltaCT_CYP11B2 / doubleDeltaCT_CYP11B2['Untreated rep4']\n",
    "print (\"CYP11B2 fold change Ang II rep 4\", foldChange_CYP11B2_AngII_rep4)"
   ]
  },
  {
   "cell_type": "code",
   "execution_count": null,
   "id": "c6a7aa7d",
   "metadata": {},
   "outputs": [],
   "source": []
  }
 ],
 "metadata": {
  "kernelspec": {
   "display_name": "Python 3 (ipykernel)",
   "language": "python",
   "name": "python3"
  },
  "language_info": {
   "codemirror_mode": {
    "name": "ipython",
    "version": 3
   },
   "file_extension": ".py",
   "mimetype": "text/x-python",
   "name": "python",
   "nbconvert_exporter": "python",
   "pygments_lexer": "ipython3",
   "version": "3.10.4"
  }
 },
 "nbformat": 4,
 "nbformat_minor": 5
}
