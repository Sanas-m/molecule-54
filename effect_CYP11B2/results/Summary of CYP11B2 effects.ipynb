{
 "cells": [
  {
   "cell_type": "markdown",
   "id": "62dab5a5",
   "metadata": {},
   "source": [
    "# Summary: effect of molecule-54 on CYP11B2 expression"
   ]
  },
  {
   "cell_type": "markdown",
   "id": "9d659f75",
   "metadata": {},
   "source": [
    "## Preliminary Data\n",
    "\n",
    "| Sample name | replicate | KCNJ5 (fold change) | CYP11B2 (fold change) |\n",
    "| --- | --- | --- | --- |\n",
    "| mol-54 treated | 1 | 0.004 | 0.902 |\n",
    "| mol-54 untreated | 1 | 0.408 | 1.420 |\n",
    "| mol-54 treated | 2 | 0.000 | 4.945 |\n",
    "| mol-54 untreated | 2 | 0.507 | 3.145 |\n",
    "| mol-54 treated | 3 | 1.500 | 1.442 |\n",
    "| mol-54 untreated | 3 | 1.287 | 0.773 |\n",
    "| mol-54 treated | 4 | 1.209 | 0.7911 |\n",
    "| mol-54 untreated | 4 | 1.501 | 1.597 |\n",
    "| mol-54 treated | 5 | 1.415 | 0.806 |\n",
    "| mol-54 untreated | 5 | 1.509 | 1.25 |"
   ]
  },
  {
   "cell_type": "code",
   "execution_count": null,
   "id": "301a89ef",
   "metadata": {},
   "outputs": [],
   "source": []
  }
 ],
 "metadata": {
  "kernelspec": {
   "display_name": "Python 3 (ipykernel)",
   "language": "python",
   "name": "python3"
  },
  "language_info": {
   "codemirror_mode": {
    "name": "ipython",
    "version": 3
   },
   "file_extension": ".py",
   "mimetype": "text/x-python",
   "name": "python",
   "nbconvert_exporter": "python",
   "pygments_lexer": "ipython3",
   "version": "3.10.4"
  }
 },
 "nbformat": 4,
 "nbformat_minor": 5
}
