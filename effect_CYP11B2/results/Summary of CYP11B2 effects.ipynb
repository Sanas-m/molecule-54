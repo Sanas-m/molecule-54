{
 "cells": [
  {
   "cell_type": "markdown",
   "id": "62dab5a5",
   "metadata": {},
   "source": [
    "# Summary: effect of molecule-54 on CYP11B2 expression"
   ]
  },
  {
   "cell_type": "markdown",
   "id": "9d659f75",
   "metadata": {},
   "source": [
    "## Replicate 1\n",
    "\n",
    "| Sample name | KCNJ5 (fold change) | CYP11B2 (fold change) |\n",
    "| --- | --- | --- |\n",
    "| mol-54 treated | 0.004 | 0.902 |\n",
    "| mol-54 untreated | 0.408 | 1.420 |\n",
    "\n",
    "## Replicate 2\n",
    "\n",
    "| Sample name | KCNJ5 (fold change) | CYP11B2 (fold change) |\n",
    "| --- | --- | --- |\n",
    "| mol-54 treated | 0.000 | 4.945 |\n",
    "| mol-54 untreated | 0.507 | 3.145 |\n",
    "\n",
    "## Replicate 3\n",
    "\n",
    "| Sample name | KCNJ5 (fold change) | CYP11B2 (fold change) |\n",
    "| --- | --- | --- |\n",
    "| mol-54 treated | 1.500 | 1.442 |\n",
    "| mol-54 untreated | 1.287 | 0.773 |\n",
    "\n",
    "## Replicate 4\n",
    "\n",
    "| Sample name | KCNJ5 (fold change) | CYP11B2 (fold change) |\n",
    "| --- | --- | --- |\n",
    "| mol-54 treated | 1.209 | 0.7911 |\n",
    "| mol-54 untreated | 1.501 | 1.597 |"
   ]
  },
  {
   "cell_type": "code",
   "execution_count": 3,
   "id": "2adb45c4",
   "metadata": {},
   "outputs": [
    {
     "name": "stdout",
     "output_type": "stream",
     "text": [
      "zsh:1: no matches found: nbconvert[webpdf]\n",
      "Note: you may need to restart the kernel to use updated packages.\n"
     ]
    }
   ],
   "source": [
    "pip install nbconvert[webpdf]"
   ]
  },
  {
   "cell_type": "code",
   "execution_count": null,
   "id": "79b08371",
   "metadata": {},
   "outputs": [],
   "source": []
  }
 ],
 "metadata": {
  "kernelspec": {
   "display_name": "Python 3 (ipykernel)",
   "language": "python",
   "name": "python3"
  },
  "language_info": {
   "codemirror_mode": {
    "name": "ipython",
    "version": 3
   },
   "file_extension": ".py",
   "mimetype": "text/x-python",
   "name": "python",
   "nbconvert_exporter": "python",
   "pygments_lexer": "ipython3",
   "version": "3.10.4"
  }
 },
 "nbformat": 4,
 "nbformat_minor": 5
}
