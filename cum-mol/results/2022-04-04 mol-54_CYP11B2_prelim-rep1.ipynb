{
 "cells": [
  {
   "cell_type": "markdown",
   "id": "1231f83d",
   "metadata": {},
   "source": [
    "# Data Analysis"
   ]
  },
  {
   "cell_type": "code",
   "execution_count": 37,
   "id": "f51ca452",
   "metadata": {},
   "outputs": [
    {
     "name": "stdout",
     "output_type": "stream",
     "text": [
      "                Sample Name Target Name            CT  Ct Mean  Ct SD\n",
      "0   L168R + cumate + mol-54       GAPDH        26.079   26.220  199.0\n",
      "1   L168R + cumate + mol-54       GAPDH        26.361   26.220  199.0\n",
      "2   L168R - cumate + mol-54       GAPDH        26.728   26.624  148.0\n",
      "3   L168R - cumate + mol-54       GAPDH        26.519   26.624  148.0\n",
      "4   L168R + cumate - mol-54       GAPDH        26.647   26.754  151.0\n",
      "5   L168R + cumate - mol-54       GAPDH        26.861   26.754  151.0\n",
      "6   L168R + cumate + mol-54     CYP11B2        29.575   29.735  227.0\n",
      "7   L168R + cumate + mol-54     CYP11B2        29.896   29.735  227.0\n",
      "8   L168R - cumate + mol-54     CYP11B2        30.012   29.990   31.0\n",
      "9   L168R - cumate + mol-54     CYP11B2        29.968   29.990   31.0\n",
      "10  L168R + cumate - mol-54     CYP11B2        29.707   29.614  131.0\n",
      "11  L168R + cumate - mol-54     CYP11B2        29.521   29.614  131.0\n",
      "12                    Water       GAPDH  Undetermined      NaN    NaN\n",
      "13                    Water     CYP11B2  Undetermined      NaN    NaN\n"
     ]
    }
   ],
   "source": [
    "import pandas as pd\n",
    "\n",
    "rawData = pd.read_csv('/Users/sanas/Documents/PhD/Results/Jupyter Notebook/L168R_cum-mol.csv', delimiter = \";\")\n",
    "processingData = rawData[['Sample Name', 'Target Name', 'CT', 'Ct Mean', 'Ct SD']]\n",
    "\n",
    "print(processingData.to_string()) "
   ]
  },
  {
   "cell_type": "markdown",
   "id": "f021076b",
   "metadata": {},
   "source": [
    "Steps to analyze the data:\n",
    "\n",
    "- Split data set into target names  \n",
    "- Subtract CT mean of target name 2 (CYP11B2) with target name 1 (GAPDH)\n",
    "- Calculate minus delta CT mean to the power of 2\n",
    "- Divide double delta CT sample value with double delta CT control value"
   ]
  },
  {
   "cell_type": "code",
   "execution_count": 38,
   "id": "897c37a9",
   "metadata": {},
   "outputs": [
    {
     "name": "stdout",
     "output_type": "stream",
     "text": [
      "                        Target Name            CT  Ct Mean  Ct SD\n",
      "Sample Name                                                      \n",
      "L168R + cumate + mol-54       GAPDH        26.079   26.220  199.0\n",
      "L168R + cumate + mol-54       GAPDH        26.361   26.220  199.0\n",
      "L168R - cumate + mol-54       GAPDH        26.728   26.624  148.0\n",
      "L168R - cumate + mol-54       GAPDH        26.519   26.624  148.0\n",
      "L168R + cumate - mol-54       GAPDH        26.647   26.754  151.0\n",
      "L168R + cumate - mol-54       GAPDH        26.861   26.754  151.0\n",
      "Water                         GAPDH  Undetermined      NaN    NaN\n",
      "                        Target Name            CT  Ct Mean  Ct SD\n",
      "Sample Name                                                      \n",
      "L168R + cumate + mol-54     CYP11B2        29.575   29.735  227.0\n",
      "L168R + cumate + mol-54     CYP11B2        29.896   29.735  227.0\n",
      "L168R - cumate + mol-54     CYP11B2        30.012   29.990   31.0\n",
      "L168R - cumate + mol-54     CYP11B2        29.968   29.990   31.0\n",
      "L168R + cumate - mol-54     CYP11B2        29.707   29.614  131.0\n",
      "L168R + cumate - mol-54     CYP11B2        29.521   29.614  131.0\n",
      "Water                       CYP11B2  Undetermined      NaN    NaN\n"
     ]
    }
   ],
   "source": [
    "housekeepingGene = processingData.loc[processingData['Target Name'] == 'GAPDH']\n",
    "geneOfInterest = processingData.loc[processingData['Target Name'] == 'CYP11B2']\n",
    "\n",
    "housekeepingGene.set_index('Sample Name', inplace = True)\n",
    "geneOfInterest.set_index('Sample Name', inplace = True)\n",
    "\n",
    "print(housekeepingGene.to_string())\n",
    "print(geneOfInterest.to_string())"
   ]
  },
  {
   "cell_type": "code",
   "execution_count": 39,
   "id": "c4d9ad8f",
   "metadata": {},
   "outputs": [
    {
     "name": "stdout",
     "output_type": "stream",
     "text": [
      "Sample Name\n",
      "L168R + cumate + mol-54    3.515\n",
      "L168R + cumate + mol-54    3.515\n",
      "L168R - cumate + mol-54    3.366\n",
      "L168R - cumate + mol-54    3.366\n",
      "L168R + cumate - mol-54    2.860\n",
      "L168R + cumate - mol-54    2.860\n",
      "Water                        NaN\n"
     ]
    }
   ],
   "source": [
    "deltaCT = geneOfInterest['Ct Mean'] - housekeepingGene['Ct Mean']\n",
    "\n",
    "print(deltaCT.to_string())"
   ]
  },
  {
   "cell_type": "code",
   "execution_count": 40,
   "id": "41b58d0b",
   "metadata": {},
   "outputs": [
    {
     "name": "stdout",
     "output_type": "stream",
     "text": [
      "Sample Name\n",
      "L168R + cumate + mol-54    0.087474\n",
      "L168R + cumate + mol-54    0.087474\n",
      "L168R - cumate + mol-54    0.096991\n",
      "L168R - cumate + mol-54    0.096991\n",
      "L168R + cumate - mol-54    0.137738\n",
      "L168R + cumate - mol-54    0.137738\n",
      "Water                           NaN\n"
     ]
    }
   ],
   "source": [
    "doubleDeltaCT = 2 ** (-deltaCT)\n",
    "print (doubleDeltaCT.to_string())"
   ]
  },
  {
   "cell_type": "code",
   "execution_count": 41,
   "id": "378f224f-2ddc-463d-b1f8-e947bf249ec1",
   "metadata": {},
   "outputs": [
    {
     "name": "stdout",
     "output_type": "stream",
     "text": [
      "Sample Name\n",
      "L168R + cumate + mol-54    0.901875\n",
      "L168R - cumate + mol-54    1.000000\n",
      "L168R + cumate - mol-54    1.420107\n",
      "Water                           NaN\n",
      "Name: Ct Mean, dtype: float64\n"
     ]
    }
   ],
   "source": [
    "doubleDeltaCT.drop_duplicates(inplace = True)\n",
    "foldChange = doubleDeltaCT / doubleDeltaCT['L168R - cumate + mol-54']\n",
    "print (foldChange)"
   ]
  },
  {
   "cell_type": "code",
   "execution_count": null,
   "id": "a962c838-0242-49a0-ad89-46e23477ce82",
   "metadata": {},
   "outputs": [],
   "source": []
  }
 ],
 "metadata": {
  "kernelspec": {
   "display_name": "Python 3 (ipykernel)",
   "language": "python",
   "name": "python3"
  },
  "language_info": {
   "codemirror_mode": {
    "name": "ipython",
    "version": 3
   },
   "file_extension": ".py",
   "mimetype": "text/x-python",
   "name": "python",
   "nbconvert_exporter": "python",
   "pygments_lexer": "ipython3",
   "version": "3.10.4"
  }
 },
 "nbformat": 4,
 "nbformat_minor": 5
}
