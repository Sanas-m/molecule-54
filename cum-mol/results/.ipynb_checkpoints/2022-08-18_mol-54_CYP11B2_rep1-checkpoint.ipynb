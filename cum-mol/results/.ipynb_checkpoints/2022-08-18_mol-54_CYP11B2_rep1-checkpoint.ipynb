{
 "cells": [
  {
   "cell_type": "markdown",
   "id": "62be14bf",
   "metadata": {},
   "source": [
    "# 2022-08-18_mol-54_CYP11B2_prelim-rep4"
   ]
  },
  {
   "cell_type": "code",
   "execution_count": 2,
   "id": "94f2df2a",
   "metadata": {},
   "outputs": [
    {
     "name": "stdout",
     "output_type": "stream",
     "text": [
      "     Sample Name Target Name      CT  Ct Mean  Ct SD\n",
      "0   + cum + m-54       GAPDH  25.619   25.380  0.337\n",
      "1   + cum + m-54       GAPDH  25.142   25.380  0.337\n",
      "2   + cum - m-54       GAPDH  25.443   25.469  0.036\n",
      "3   + cum - m-54       GAPDH  25.494   25.469  0.036\n",
      "4   - cum + m-54       GAPDH  25.482   25.487  0.008\n",
      "5   - cum + m-54       GAPDH  25.493   25.487  0.008\n",
      "6   + cum + m-54       KCNJ5  23.100   23.041  0.084\n",
      "7   + cum + m-54       KCNJ5  22.982   23.041  0.084\n",
      "8   + cum - m-54       KCNJ5  23.012   23.037  0.036\n",
      "9   + cum - m-54       KCNJ5  23.062   23.037  0.036\n",
      "10  - cum + m-54       KCNJ5  23.479   23.649  0.239\n",
      "11  - cum + m-54       KCNJ5  23.818   23.649  0.239\n",
      "12  + cum + m-54     CYP11B2  30.930   30.596  0.472\n",
      "13  + cum + m-54     CYP11B2  30.262   30.596  0.472\n",
      "14  + cum - m-54     CYP11B2  30.025   30.056  0.045\n",
      "15  + cum - m-54     CYP11B2  30.088   30.056  0.045\n",
      "16  - cum + m-54     CYP11B2  30.370   30.392  0.031\n",
      "17  - cum + m-54     CYP11B2  30.414   30.392  0.031\n"
     ]
    }
   ],
   "source": [
    "import pandas as pd\n",
    "\n",
    "rawData = pd.read_csv('/Users/sanas/Projects/molecule-54/effect_CYP11B2/resources/beta_R1.csv', delimiter = \";\", decimal = \",\")\n",
    "processingData = rawData[['Sample Name', 'Target Name', 'CT', 'Ct Mean', 'Ct SD']]\n",
    "\n",
    "print(processingData.to_string()) "
   ]
  },
  {
   "cell_type": "code",
   "execution_count": 3,
   "id": "5ec8f9d1",
   "metadata": {},
   "outputs": [
    {
     "name": "stdout",
     "output_type": "stream",
     "text": [
      "             Target Name      CT  Ct Mean  Ct SD\n",
      "Sample Name                                     \n",
      "+ cum + m-54       GAPDH  25.619   25.380  0.337\n",
      "+ cum + m-54       GAPDH  25.142   25.380  0.337\n",
      "+ cum - m-54       GAPDH  25.443   25.469  0.036\n",
      "+ cum - m-54       GAPDH  25.494   25.469  0.036\n",
      "- cum + m-54       GAPDH  25.482   25.487  0.008\n",
      "- cum + m-54       GAPDH  25.493   25.487  0.008\n",
      "             Target Name      CT  Ct Mean  Ct SD\n",
      "Sample Name                                     \n",
      "+ cum + m-54     CYP11B2  30.930   30.596  0.472\n",
      "+ cum + m-54     CYP11B2  30.262   30.596  0.472\n",
      "+ cum - m-54     CYP11B2  30.025   30.056  0.045\n",
      "+ cum - m-54     CYP11B2  30.088   30.056  0.045\n",
      "- cum + m-54     CYP11B2  30.370   30.392  0.031\n",
      "- cum + m-54     CYP11B2  30.414   30.392  0.031\n",
      "             Target Name      CT  Ct Mean  Ct SD\n",
      "Sample Name                                     \n",
      "+ cum + m-54       KCNJ5  23.100   23.041  0.084\n",
      "+ cum + m-54       KCNJ5  22.982   23.041  0.084\n",
      "+ cum - m-54       KCNJ5  23.012   23.037  0.036\n",
      "+ cum - m-54       KCNJ5  23.062   23.037  0.036\n",
      "- cum + m-54       KCNJ5  23.479   23.649  0.239\n",
      "- cum + m-54       KCNJ5  23.818   23.649  0.239\n"
     ]
    }
   ],
   "source": [
    "housekeepingGene = processingData.loc[processingData['Target Name'] == 'GAPDH']\n",
    "firstGeneOfInterest = processingData.loc[processingData['Target Name'] == 'CYP11B2']\n",
    "secondGeneOfInterest = processingData.loc[processingData['Target Name'] == 'KCNJ5']\n",
    "\n",
    "housekeepingGene.set_index('Sample Name', inplace = True)\n",
    "firstGeneOfInterest.set_index('Sample Name', inplace = True)\n",
    "secondGeneOfInterest.set_index('Sample Name', inplace = True)\n",
    "\n",
    "print(housekeepingGene.to_string())\n",
    "print(firstGeneOfInterest.to_string())\n",
    "print(secondGeneOfInterest.to_string())"
   ]
  },
  {
   "cell_type": "code",
   "execution_count": 4,
   "id": "f4e1a7fe",
   "metadata": {},
   "outputs": [
    {
     "name": "stdout",
     "output_type": "stream",
     "text": [
      "Sample Name\n",
      "+ cum + m-54    5.216\n",
      "+ cum + m-54    5.216\n",
      "+ cum - m-54    4.587\n",
      "+ cum - m-54    4.587\n",
      "- cum + m-54    4.905\n",
      "- cum + m-54    4.905\n",
      "Sample Name\n",
      "+ cum + m-54   -2.339\n",
      "+ cum + m-54   -2.339\n",
      "+ cum - m-54   -2.432\n",
      "+ cum - m-54   -2.432\n",
      "- cum + m-54   -1.838\n",
      "- cum + m-54   -1.838\n"
     ]
    }
   ],
   "source": [
    "deltaCT_CYP11B2 = firstGeneOfInterest['Ct Mean'] - housekeepingGene['Ct Mean']\n",
    "deltaCT_KCNJ5 = secondGeneOfInterest['Ct Mean'] - housekeepingGene['Ct Mean']\n",
    "\n",
    "print(deltaCT_CYP11B2.to_string())\n",
    "print(deltaCT_KCNJ5.to_string())"
   ]
  },
  {
   "cell_type": "code",
   "execution_count": 5,
   "id": "77957654",
   "metadata": {},
   "outputs": [
    {
     "name": "stdout",
     "output_type": "stream",
     "text": [
      "CYP11B2 expression Sample Name\n",
      "+ cum + m-54    0.026905\n",
      "+ cum - m-54    0.041608\n",
      "- cum + m-54    0.033377\n",
      "KCNJ5 expression Sample Name\n",
      "+ cum + m-54    5.059518\n",
      "+ cum - m-54    5.396410\n",
      "- cum + m-54    3.575141\n"
     ]
    }
   ],
   "source": [
    "doubleDeltaCT_CYP11B2 = 2 ** (-deltaCT_CYP11B2)\n",
    "doubleDeltaCT_KCNJ5 = 2 ** (-deltaCT_KCNJ5)\n",
    "\n",
    "doubleDeltaCT_CYP11B2.drop_duplicates(inplace = True)\n",
    "doubleDeltaCT_KCNJ5.drop_duplicates(inplace = True)\n",
    "\n",
    "print (\"CYP11B2 expression\", doubleDeltaCT_CYP11B2.to_string())\n",
    "print (\"KCNJ5 expression\", doubleDeltaCT_KCNJ5.to_string())"
   ]
  },
  {
   "cell_type": "code",
   "execution_count": 7,
   "id": "1dcc75dd",
   "metadata": {},
   "outputs": [
    {
     "name": "stdout",
     "output_type": "stream",
     "text": [
      "CYP11B2 fold change of molecule-54 treated cells compared to uninduced, treated cells: 0.8060828314929677\n",
      "KCNJ5 expression of molecule-54 treated cells compared to uninduced, treated cells: 1.4151941603266573 \n",
      "\n",
      "CYP11B2 fold change of cumate-induced, untreated cells compared to uninduced, treated cells: 1.2466011942750985\n",
      "KCNJ5 expression of cumate-induced, untreated cells compared to uninduced, treated cells: 1.5094259685205647 \n",
      "\n"
     ]
    }
   ],
   "source": [
    "foldChange_CYP11B2_cum_mol = doubleDeltaCT_CYP11B2['+ cum + m-54'] / doubleDeltaCT_CYP11B2['- cum + m-54']\n",
    "foldChange_KCNJ5_cum_mol = doubleDeltaCT_KCNJ5['+ cum + m-54'] / doubleDeltaCT_KCNJ5['- cum + m-54']\n",
    "print (\"CYP11B2 fold change of molecule-54 treated cells compared to uninduced, treated cells:\", foldChange_CYP11B2_cum_mol,)\n",
    "print (\"KCNJ5 expression of molecule-54 treated cells compared to uninduced, treated cells:\", foldChange_KCNJ5_cum_mol, \"\\n\")\n",
    "\n",
    "\n",
    "foldChange_CYP11B2_cum_minus_mol = doubleDeltaCT_CYP11B2['+ cum - m-54'] / doubleDeltaCT_CYP11B2['- cum + m-54']\n",
    "foldChange_KCNJ5_cum_minus_mol = doubleDeltaCT_KCNJ5['+ cum - m-54'] / doubleDeltaCT_KCNJ5['- cum + m-54']\n",
    "print (\"CYP11B2 fold change of cumate-induced, untreated cells compared to uninduced, treated cells:\", foldChange_CYP11B2_cum_minus_mol)\n",
    "print (\"KCNJ5 expression of cumate-induced, untreated cells compared to uninduced, treated cells:\", foldChange_KCNJ5_cum_minus_mol, \"\\n\")"
   ]
  },
  {
   "cell_type": "code",
   "execution_count": null,
   "id": "6a5a836d",
   "metadata": {},
   "outputs": [],
   "source": []
  }
 ],
 "metadata": {
  "kernelspec": {
   "display_name": "Python 3 (ipykernel)",
   "language": "python",
   "name": "python3"
  },
  "language_info": {
   "codemirror_mode": {
    "name": "ipython",
    "version": 3
   },
   "file_extension": ".py",
   "mimetype": "text/x-python",
   "name": "python",
   "nbconvert_exporter": "python",
   "pygments_lexer": "ipython3",
   "version": "3.10.4"
  }
 },
 "nbformat": 4,
 "nbformat_minor": 5
}
